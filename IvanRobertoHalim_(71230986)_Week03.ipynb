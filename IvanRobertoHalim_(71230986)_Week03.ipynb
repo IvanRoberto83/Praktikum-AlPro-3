{
  "nbformat": 4,
  "nbformat_minor": 0,
  "metadata": {
    "colab": {
      "provenance": []
    },
    "kernelspec": {
      "name": "python3",
      "display_name": "Python 3"
    },
    "language_info": {
      "name": "python"
    }
  },
  "cells": [
    {
      "cell_type": "code",
      "execution_count": 1,
      "metadata": {
        "colab": {
          "base_uri": "https://localhost:8080/"
        },
        "id": "Zl8qnfAXl2yV",
        "outputId": "21f1853b-2d6f-429a-c34a-ad6c0510bc81"
      },
      "outputs": [
        {
          "output_type": "stream",
          "name": "stdout",
          "text": [
            "Masukkan suhu Anda : 36\n",
            "Anda tidak demam\n"
          ]
        }
      ],
      "source": [
        "#Soal 1 (contoh 3.1)\n",
        "\n",
        "suhu_user = input(\"Masukkan suhu Anda : \")\n",
        "\n",
        "try:\n",
        "    suhu_user = int(suhu_user)\n",
        "\n",
        "    if suhu_user >= 38:\n",
        "        print(\"Anda demam\")\n",
        "    else:\n",
        "        print(\"Anda tidak demam\")\n",
        "\n",
        "except:\n",
        "    print(\"Tolong masukkan data bertipe integer\")\n",
        ""
      ]
    },
    {
      "cell_type": "code",
      "source": [
        "#Soal 1 (contoh 3.2)\n",
        "\n",
        "angka = input(\"Masukkan suatu bilangan : \")\n",
        "\n",
        "try:\n",
        "    angka = int(angka)\n",
        "\n",
        "    if angka > 0:\n",
        "        print(\"Bilangan Positif\")\n",
        "    elif angka < 0:\n",
        "        print(\"Bilangan Negatif\")\n",
        "    else:\n",
        "        print(\"Bilangan Nol\")\n",
        "\n",
        "except:\n",
        "    print(\"Tolong masukkan data bertipe integer\")\n"
      ],
      "metadata": {
        "colab": {
          "base_uri": "https://localhost:8080/"
        },
        "id": "ErurmDq-mKTA",
        "outputId": "d4aca1b9-7c4b-4ea2-e43d-eb3e9d10b541"
      },
      "execution_count": 2,
      "outputs": [
        {
          "output_type": "stream",
          "name": "stdout",
          "text": [
            "Masukkan suatu bilangan : 0\n",
            "Bilangan Nol\n"
          ]
        }
      ]
    },
    {
      "cell_type": "code",
      "source": [
        "#Soal 1 (contoh 3.3)\n",
        "\n",
        "a = input(\"Masukkan angka pertama : \")\n",
        "b = input(\"Masukkan angka kedua : \")\n",
        "c = input(\"Masukkan angka ketiga : \")\n",
        "\n",
        "try:\n",
        "    a = int(a)\n",
        "    b = int(b)\n",
        "    c = int(c)\n",
        "\n",
        "    if a > b and a > c:\n",
        "        print(f\"Terbesar = {a}\")\n",
        "    elif b > a and b > c:\n",
        "        print(f\"Terbesar = {b}\")\n",
        "    elif c > a and c > b:\n",
        "        print(f\"Terbesar = {c}\")\n",
        "\n",
        "except:\n",
        "    print(\"Tolong masukkan data bertipe integer\")\n"
      ],
      "metadata": {
        "colab": {
          "base_uri": "https://localhost:8080/"
        },
        "id": "MznahBEWmaIH",
        "outputId": "6bc3cc2c-327c-4ec1-bed5-5aa1ba4578e2"
      },
      "execution_count": 3,
      "outputs": [
        {
          "output_type": "stream",
          "name": "stdout",
          "text": [
            "Masukkan angka pertama : 5\n",
            "Masukkan angka kedua : 2\n",
            "Masukkan angka ketiga : 3\n",
            "Terbesar = 5\n"
          ]
        }
      ]
    },
    {
      "cell_type": "code",
      "source": [
        "#Soal 2\n",
        "\n",
        "angka = int(input(\"Masukkan suatu bilangan : \"))\n",
        "\n",
        "print(\"Bilangan Positif\" if angka > 0 else \"Bilangan Negatif\" if angka < 0 else \"Bilangan Nol\")\n"
      ],
      "metadata": {
        "colab": {
          "base_uri": "https://localhost:8080/"
        },
        "id": "AoJvEImump01",
        "outputId": "b05a4a3c-9198-4dc7-83c6-afbe8f4a4afe"
      },
      "execution_count": 4,
      "outputs": [
        {
          "output_type": "stream",
          "name": "stdout",
          "text": [
            "Masukkan suatu bilangan : -3\n",
            "Bilangan Negatif\n"
          ]
        }
      ]
    },
    {
      "cell_type": "code",
      "source": [
        "#Soal 3\n",
        "\n",
        "bulan = input(\"Masukkan bulan (1-12) : \")\n",
        "\n",
        "try:\n",
        "    bulan = int(bulan)\n",
        "    if bulan == 1 or bulan == 3 or bulan == 5 or bulan == 7 or bulan == 8 or bulan == 10 or bulan == 12:\n",
        "        print(\"Jumlah hari = 31 hari\")\n",
        "    elif bulan == 4 or bulan == 6 or bulan == 9 or bulan == 11:\n",
        "        print(\"Jumlah hari = 30 hari\")\n",
        "    elif bulan == 2:\n",
        "        print(\"Jumlah hari = 29 hari\")\n",
        "    else:\n",
        "        print(\"Hanya ada 12 bulan dalam 1 tahun\")\n",
        "\n",
        "except:\n",
        "    print(\"Bulan yang diinput tidak valid\")\n"
      ],
      "metadata": {
        "colab": {
          "base_uri": "https://localhost:8080/"
        },
        "id": "Br5d44g-m17a",
        "outputId": "89e639c1-c02a-4ebf-f030-1907c847537a"
      },
      "execution_count": 5,
      "outputs": [
        {
          "output_type": "stream",
          "name": "stdout",
          "text": [
            "Masukkan bulan (1-12) : 4\n",
            "Jumlah hari = 30 hari\n"
          ]
        }
      ]
    },
    {
      "cell_type": "code",
      "source": [
        "#Soal 4\n",
        "\n",
        "sisi1 = input(\"Masukkan panjang sisi 1 : \")\n",
        "sisi2 = input(\"Masukkan panjang sisi 2 : \")\n",
        "sisi3 = input(\"Masukkan panjang sisi 3 : \")\n",
        "\n",
        "try:\n",
        "    sisi1 = int(sisi1)\n",
        "    sisi2 = int(sisi2)\n",
        "    sisi3 = int(sisi3)\n",
        "\n",
        "    if sisi1 == sisi2 == sisi3:\n",
        "        print(\"3 sisi sama\")\n",
        "    elif sisi1 != sisi2 == sisi3 or sisi1 == sisi2 != sisi3 or sisi1 == sisi3 != sisi2:\n",
        "        print(\"2 sisi sama\")\n",
        "    elif sisi1 != sisi2 != sisi3:\n",
        "        print(\"Tidak ada yang sama\")\n",
        "\n",
        "except:\n",
        "    print(\"Sisi yang diinput tidak valid\")\n"
      ],
      "metadata": {
        "colab": {
          "base_uri": "https://localhost:8080/"
        },
        "id": "yladE86Fm-w1",
        "outputId": "69f298a5-7f38-4336-cd36-1fac8ce5e4d4"
      },
      "execution_count": 6,
      "outputs": [
        {
          "output_type": "stream",
          "name": "stdout",
          "text": [
            "Masukkan panjang sisi 1 : 5\n",
            "Masukkan panjang sisi 2 : 5\n",
            "Masukkan panjang sisi 3 : 7\n",
            "2 sisi sama\n"
          ]
        }
      ]
    }
  ]
}